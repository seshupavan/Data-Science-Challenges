{
 "cells": [
  {
   "cell_type": "markdown",
   "id": "901895d6",
   "metadata": {},
   "source": [
    "# Machine Learning Modeling"
   ]
  },
  {
   "cell_type": "code",
   "execution_count": 1,
   "id": "cafe07ba",
   "metadata": {},
   "outputs": [],
   "source": [
    "import pandas as pd\n",
    "import sklearn\n",
    "import xgboost\n",
    "from sklearn.model_selection import train_test_split\n",
    "from sklearn.metrics import r2_score\n",
    "from xgboost import XGBRFRegressor\n",
    "from lightgbm import LGBMRegressor"
   ]
  },
  {
   "cell_type": "code",
   "execution_count": 2,
   "id": "be20972a",
   "metadata": {},
   "outputs": [
    {
     "data": {
      "text/html": [
       "<div>\n",
       "<style scoped>\n",
       "    .dataframe tbody tr th:only-of-type {\n",
       "        vertical-align: middle;\n",
       "    }\n",
       "\n",
       "    .dataframe tbody tr th {\n",
       "        vertical-align: top;\n",
       "    }\n",
       "\n",
       "    .dataframe thead th {\n",
       "        text-align: right;\n",
       "    }\n",
       "</style>\n",
       "<table border=\"1\" class=\"dataframe\">\n",
       "  <thead>\n",
       "    <tr style=\"text-align: right;\">\n",
       "      <th></th>\n",
       "      <th>loc1</th>\n",
       "      <th>loc2</th>\n",
       "      <th>para1</th>\n",
       "      <th>dow</th>\n",
       "      <th>para2</th>\n",
       "      <th>para3</th>\n",
       "      <th>para4</th>\n",
       "      <th>price</th>\n",
       "    </tr>\n",
       "  </thead>\n",
       "  <tbody>\n",
       "    <tr>\n",
       "      <th>3879</th>\n",
       "      <td>4</td>\n",
       "      <td>47.0</td>\n",
       "      <td>1</td>\n",
       "      <td>1</td>\n",
       "      <td>423</td>\n",
       "      <td>3370.0</td>\n",
       "      <td>2.8</td>\n",
       "      <td>57.72</td>\n",
       "    </tr>\n",
       "    <tr>\n",
       "      <th>1446</th>\n",
       "      <td>8</td>\n",
       "      <td>85.0</td>\n",
       "      <td>5</td>\n",
       "      <td>4</td>\n",
       "      <td>1407</td>\n",
       "      <td>10000.0</td>\n",
       "      <td>13.6</td>\n",
       "      <td>2200.00</td>\n",
       "    </tr>\n",
       "    <tr>\n",
       "      <th>1633</th>\n",
       "      <td>4</td>\n",
       "      <td>45.0</td>\n",
       "      <td>1</td>\n",
       "      <td>2</td>\n",
       "      <td>276</td>\n",
       "      <td>1000.0</td>\n",
       "      <td>1.5</td>\n",
       "      <td>150.00</td>\n",
       "    </tr>\n",
       "  </tbody>\n",
       "</table>\n",
       "</div>"
      ],
      "text/plain": [
       "      loc1  loc2  para1  dow  para2    para3  para4    price\n",
       "3879     4  47.0      1    1    423   3370.0    2.8    57.72\n",
       "1446     8  85.0      5    4   1407  10000.0   13.6  2200.00\n",
       "1633     4  45.0      1    2    276   1000.0    1.5   150.00"
      ]
     },
     "execution_count": 2,
     "metadata": {},
     "output_type": "execute_result"
    }
   ],
   "source": [
    "prices_df = pd.read_csv('cleaned_dataset.csv')\n",
    "prices_df.sample(3)"
   ]
  },
  {
   "cell_type": "code",
   "execution_count": 3,
   "id": "b98efbaa",
   "metadata": {},
   "outputs": [
    {
     "name": "stdout",
     "output_type": "stream",
     "text": [
      "X_train shape: (8494, 7)\n",
      "y_train shape: (1499, 7)\n",
      "X_test shape: (8494,)\n",
      "y_test shape: (1499,)\n"
     ]
    }
   ],
   "source": [
    "# spliting the data for training and testing\n",
    "\n",
    "X = prices_df[['loc1', 'loc2', 'para1', 'dow', 'para2', 'para3', 'para4']]\n",
    "y = prices_df['price']\n",
    "\n",
    "X_train, y_train, X_test, y_test = train_test_split(X, y, test_size=0.15, random_state=42)\n",
    "\n",
    "print(\"X_train shape:\", X_train.shape)\n",
    "print(\"y_train shape:\", y_train.shape)\n",
    "print(\"X_test shape:\", X_test.shape)\n",
    "print(\"y_test shape:\", y_test.shape)"
   ]
  },
  {
   "cell_type": "code",
   "execution_count": 4,
   "id": "8e4e864d",
   "metadata": {},
   "outputs": [],
   "source": [
    "model_results = []\n",
    "\n",
    "def calculate_r2_score(true_values, preds):\n",
    "    r2_score_val = r2_score(true_values, preds)\n",
    "    return r2_score_val\n",
    "\n",
    "def train_model(model_type):\n",
    "    model = model_type\n",
    "    model.fit(X_train, X_test)\n",
    "    \n",
    "    #predicting the prices on both train and test data\n",
    "    train_preds = model.predict(X_train)\n",
    "    test_preds = model.predict(y_train)\n",
    "    \n",
    "    #calculating the r2-score (Evaluation)\n",
    "    train_r2 = calculate_r2_score(X_test, train_preds)\n",
    "    test_r2 = calculate_r2_score(y_test, test_preds)\n",
    "    \n",
    "    #Saving the model results into a dictionary\n",
    "    result_dict = {\n",
    "        'model_name': model_type,\n",
    "        'test_r2_score': test_r2\n",
    "    }\n",
    "    model_results.append(result_dict)\n",
    "    \n",
    "    #printing the r2-scores\n",
    "    print(f\"R2-score on the training set for {model_type} is {train_r2:.4f}\")\n",
    "    print(f\"R2-score on the test set for {model_type} is {test_r2:.4f}\")"
   ]
  },
  {
   "cell_type": "code",
   "execution_count": 5,
   "id": "086f5ec0",
   "metadata": {},
   "outputs": [
    {
     "name": "stdout",
     "output_type": "stream",
     "text": [
      "R2-score on the training set for Ridge() is 0.5554\n",
      "R2-score on the test set for Ridge() is 0.5880\n"
     ]
    }
   ],
   "source": [
    "from sklearn.linear_model import Ridge\n",
    "train_model(Ridge())"
   ]
  },
  {
   "cell_type": "code",
   "execution_count": 6,
   "id": "bdddb93e",
   "metadata": {},
   "outputs": [
    {
     "name": "stdout",
     "output_type": "stream",
     "text": [
      "R2-score on the training set for DecisionTreeRegressor() is 0.9999\n",
      "R2-score on the test set for DecisionTreeRegressor() is 0.5139\n"
     ]
    }
   ],
   "source": [
    "from sklearn.tree import DecisionTreeRegressor\n",
    "train_model(DecisionTreeRegressor())"
   ]
  },
  {
   "cell_type": "code",
   "execution_count": 7,
   "id": "ca601c0f",
   "metadata": {},
   "outputs": [
    {
     "name": "stdout",
     "output_type": "stream",
     "text": [
      "R2-score on the training set for RandomForestRegressor() is 0.9572\n",
      "R2-score on the test set for RandomForestRegressor() is 0.7224\n"
     ]
    }
   ],
   "source": [
    "from sklearn.ensemble import RandomForestRegressor\n",
    "train_model(RandomForestRegressor())"
   ]
  },
  {
   "cell_type": "code",
   "execution_count": 8,
   "id": "c8729a8f",
   "metadata": {},
   "outputs": [
    {
     "name": "stdout",
     "output_type": "stream",
     "text": [
      "[08:11:12] WARNING: C:/Jenkins/workspace/xgboost-win64_release_0.90/src/objective/regression_obj.cu:152: reg:linear is now deprecated in favor of reg:squarederror.\n",
      "R2-score on the training set for XGBRFRegressor() is 0.6085\n",
      "R2-score on the test set for XGBRFRegressor() is 0.6168\n"
     ]
    }
   ],
   "source": [
    "train_model(XGBRFRegressor())"
   ]
  },
  {
   "cell_type": "code",
   "execution_count": 9,
   "id": "a81655ed",
   "metadata": {},
   "outputs": [
    {
     "name": "stdout",
     "output_type": "stream",
     "text": [
      "[LightGBM] [Info] Auto-choosing row-wise multi-threading, the overhead of testing was 0.001276 seconds.\n",
      "You can set `force_row_wise=true` to remove the overhead.\n",
      "And if memory is not enough, you can set `force_col_wise=true`.\n",
      "[LightGBM] [Info] Total Bins 773\n",
      "[LightGBM] [Info] Number of data points in the train set: 8494, number of used features: 7\n",
      "[LightGBM] [Info] Start training from score 432.145333\n",
      "R2-score on the training set for LGBMRegressor() is 0.8022\n",
      "R2-score on the test set for LGBMRegressor() is 0.7159\n"
     ]
    }
   ],
   "source": [
    "train_model(LGBMRegressor())"
   ]
  },
  {
   "cell_type": "code",
   "execution_count": 10,
   "id": "9efcac75",
   "metadata": {},
   "outputs": [
    {
     "data": {
      "text/plain": [
       "[{'model_name': Ridge(), 'test_r2_score': 0.5879624834809501},\n",
       " {'model_name': DecisionTreeRegressor(), 'test_r2_score': 0.5138615200084724},\n",
       " {'model_name': RandomForestRegressor(), 'test_r2_score': 0.7224021535682885},\n",
       " {'model_name': XGBRFRegressor(), 'test_r2_score': 0.6167891056424547},\n",
       " {'model_name': LGBMRegressor(), 'test_r2_score': 0.7158531789259266}]"
      ]
     },
     "execution_count": 10,
     "metadata": {},
     "output_type": "execute_result"
    }
   ],
   "source": [
    "model_results"
   ]
  },
  {
   "cell_type": "code",
   "execution_count": 11,
   "id": "90895364",
   "metadata": {},
   "outputs": [
    {
     "data": {
      "image/png": "[encoded data removed]",
      "text/plain": [
       "<Figure size 600x400 with 1 Axes>"
      ]
     },
     "metadata": {},
     "output_type": "display_data"
    }
   ],
   "source": [
    "import matplotlib.pyplot as plt\n",
    "\n",
    "#ploting the models and their micro-f1-scores on validation sets \n",
    "model_results.sort(key=lambda x: x['test_r2_score'], reverse=True)\n",
    "model_names = [val['model_name'] for val in model_results]\n",
    "f1_scores = [val['test_r2_score'] for val in model_results]\n",
    "model_names = list(map(str, model_names))\n",
    "\n",
    "plt.figure(figsize=(6,4))\n",
    "plt.bar(model_names, f1_scores, color='lightcoral')\n",
    "plt.ylim(0.5, 0.73)\n",
    "plt.xlabel('Model')\n",
    "plt.ylabel('Test r2 Score')\n",
    "plt.title('Test r2 Score for Different Models')\n",
    "plt.xticks(rotation=90);"
   ]
  },
  {
   "cell_type": "markdown",
   "id": "b3c04ea2",
   "metadata": {},
   "source": [
    "The LightXGM model genralized more on both trainand test data compared to RandomForest. Auto-tuned LightGBM model results are decent compared to when done manually so we are not doing them again :)"
   ]
  },
  {
   "cell_type": "markdown",
   "id": "4b47e3c7",
   "metadata": {},
   "source": [
    "## Deep Learning"
   ]
  },
  {
   "cell_type": "code",
   "execution_count": 16,
   "id": "f62726be",
   "metadata": {},
   "outputs": [
    {
     "name": "stdout",
     "output_type": "stream",
     "text": [
      "Epoch 5: The loss is 648946.6875 and the test_loss is 580828.5\n",
      "Epoch 10: The loss is 287307.1875 and the test_loss is 263176.53125\n",
      "Epoch 15: The loss is 151985.546875 and the test_loss is 161499.53125\n",
      "Epoch 20: The loss is 153981.234375 and the test_loss is 175636.734375\n",
      "Epoch 25: The loss is 179274.34375 and the test_loss is 195985.34375\n",
      "Epoch 30: The loss is 172597.4375 and the test_loss is 183681.6875\n"
     ]
    }
   ],
   "source": [
    "import torch\n",
    "import torch.nn as nn\n",
    "import torch.optim as optim\n",
    "\n",
    "torch.manual_seed(42)\n",
    "\n",
    "#Defining the Neural Network\n",
    "class NeuralNet(nn.Module):\n",
    "    def __init__(self, input_size):\n",
    "        super(NeuralNet, self).__init__()\n",
    "        self.fc1 = nn.Linear(input_size, 64)\n",
    "        self.relu = nn.ReLU()\n",
    "        self.fc2 = nn.Linear(64, 1)\n",
    "        \n",
    "    def forward(self, x):\n",
    "        x = self.relu(self.fc1(x))\n",
    "        x = self.fc2(x)\n",
    "        return x\n",
    "    \n",
    "model = NeuralNet(input_size=X_train.shape[1])\n",
    "\n",
    "# Defining the loss and optimizers \n",
    "criterion = nn.MSELoss()\n",
    "optimizer = optim.Adam(model.parameters(), lr=0.001)\n",
    "\n",
    "# Converting the data into tensors\n",
    "x_train_tensor = torch.tensor(X_train.values, dtype=torch.float32)\n",
    "y_train_tensor = torch.tensor(y_train.values, dtype=torch.float32)\n",
    "x_test_tensor = torch.tensor(X_test.values, dtype=torch.float32)\n",
    "y_test_tensor = torch.tensor(y_test.values, dtype=torch.float32)\n",
    "\n",
    "# Train the model\n",
    "history = {'loss':[], 'test_loss':[]}\n",
    "\n",
    "for epoch in range(30):\n",
    "    model.train()\n",
    "    outputs = model(x_train_tensor)\n",
    "    loss = criterion(outputs, x_test_tensor)\n",
    "    optimizer.zero_grad()\n",
    "    loss.backward()\n",
    "    optimizer.step()\n",
    "    history['loss'].append(loss.item())\n",
    "    \n",
    "    # Evaluation\n",
    "    model.eval()\n",
    "    with torch.no_grad():\n",
    "        test_outputs = model(y_train_tensor)\n",
    "        test_loss = criterion(test_outputs, y_test_tensor)  # Compute test loss\n",
    "        history['test_loss'].append(test_loss.item())  # Store test loss\n",
    "        \n",
    "    if (epoch + 1) % 5 == 0:\n",
    "        print(f\"Epoch {epoch + 1}: The loss is {loss.item()} and the test_loss is {test_loss.item()}\")"
   ]
  },
  {
   "cell_type": "code",
   "execution_count": 17,
   "id": "85b2aa87",
   "metadata": {},
   "outputs": [
    {
     "data": {
      "image/png": "[encoded data removed]",
      "text/plain": [
       "<Figure size 640x480 with 1 Axes>"
      ]
     },
     "metadata": {},
     "output_type": "display_data"
    }
   ],
   "source": [
    "import matplotlib.pyplot as plt\n",
    "\n",
    "# Plot the training and test loss\n",
    "plt.plot(range(1, 31), history['loss'], label='Training Loss')\n",
    "plt.plot(range(1, 31), history['test_loss'], label='Test Loss')\n",
    "plt.xlabel('Epoch')\n",
    "plt.ylabel('Loss')\n",
    "plt.title('Training and Test Loss')\n",
    "plt.legend()\n",
    "plt.show()"
   ]
  }
 ],
 "metadata": {
  "kernelspec": {
   "display_name": "Python 3 (ipykernel)",
   "language": "python",
   "name": "python3"
  },
  "language_info": {
   "codemirror_mode": {
    "name": "ipython",
    "version": 3
   },
   "file_extension": ".py",
   "mimetype": "text/x-python",
   "name": "python",
   "nbconvert_exporter": "python",
   "pygments_lexer": "ipython3",
   "version": "3.10.9"
  }
 },
 "nbformat": 4,
 "nbformat_minor": 5
}
